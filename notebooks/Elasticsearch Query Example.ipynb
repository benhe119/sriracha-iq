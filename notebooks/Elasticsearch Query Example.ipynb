{
 "cells": [
  {
   "cell_type": "code",
   "execution_count": 25,
   "metadata": {},
   "outputs": [],
   "source": [
    "from elasticsearch import Elasticsearch\n",
    "from elasticsearch_dsl import Search\n",
    "import os"
   ]
  },
  {
   "cell_type": "code",
   "execution_count": 26,
   "metadata": {},
   "outputs": [
    {
     "data": {
      "text/plain": [
       "{'name': 'ccf5cfb1d722',\n",
       " 'cluster_name': 'docker-cluster',\n",
       " 'cluster_uuid': 'se5lfjmvRA26GeGGZF2xzw',\n",
       " 'version': {'number': '7.5.0',\n",
       "  'build_flavor': 'default',\n",
       "  'build_type': 'docker',\n",
       "  'build_hash': 'e9ccaed468e2fac2275a3761849cbee64b39519f',\n",
       "  'build_date': '2019-11-26T01:06:52.518245Z',\n",
       "  'build_snapshot': False,\n",
       "  'lucene_version': '8.3.0',\n",
       "  'minimum_wire_compatibility_version': '6.8.0',\n",
       "  'minimum_index_compatibility_version': '6.0.0-beta1'},\n",
       " 'tagline': 'You Know, for Search'}"
      ]
     },
     "execution_count": 26,
     "metadata": {},
     "output_type": "execute_result"
    }
   ],
   "source": [
    "client = Elasticsearch(\"http://elasticsearch:9200\",  http_auth=(os.environ['ELASTIC_USER'],os.environ['ELASTIC_PASSWORD']), timeout=10, max_retries=30)\n",
    "client.info()"
   ]
  },
  {
   "cell_type": "code",
   "execution_count": 27,
   "metadata": {},
   "outputs": [
    {
     "name": "stdout",
     "output_type": "stream",
     "text": [
      "{'name': '2bb6d1e93cfc'} [\"The remote Terminal Services doesn't use Network Level Authentication.\"]\n",
      "{'name': '2bb6d1e93cfc'} ['The remote Terminal Services use SSL/TLS.']\n",
      "{'name': '2bb6d1e93cfc'} ['It may be possible to get access to the remote host.']\n",
      "{'name': '2bb6d1e93cfc'} ['It is possible to take a screenshot of the remote login screen.']\n",
      "{'name': '2bb6d1e93cfc'} ['The remote host is using weak cryptography.']\n",
      "{'name': '2bb6d1e93cfc'} ['The remote host is not FIPS-140 compliant.']\n",
      "{'name': '2bb6d1e93cfc'} ['The remote Windows host has Terminal Services enabled.']\n",
      "{'name': '2bb6d1e93cfc'} ['It is possible to determine which TCP ports are open.']\n",
      "{'name': '2bb6d1e93cfc'} ['It may be possible to get access to the remote host.']\n",
      "{'name': '2bb6d1e93cfc'} ['It is possible to take a screenshot of the remote login screen.']\n"
     ]
    }
   ],
   "source": [
    "s = Search(using=client, index=\"nessus*\") \\\n",
    "  .query(\"match\", port=\"3389\")\n",
    "response = s.execute()\n",
    "\n",
    "\n",
    "for hit in response:\n",
    "    print(hit.host, hit.synopsis)"
   ]
  },
  {
   "cell_type": "code",
   "execution_count": null,
   "metadata": {},
   "outputs": [],
   "source": []
  }
 ],
 "metadata": {
  "kernelspec": {
   "display_name": "Python 3",
   "language": "python",
   "name": "python3"
  },
  "language_info": {
   "codemirror_mode": {
    "name": "ipython",
    "version": 3
   },
   "file_extension": ".py",
   "mimetype": "text/x-python",
   "name": "python",
   "nbconvert_exporter": "python",
   "pygments_lexer": "ipython3",
   "version": "3.7.3"
  }
 },
 "nbformat": 4,
 "nbformat_minor": 4
}
